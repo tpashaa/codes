{
 "cells": [
  {
   "cell_type": "markdown",
   "metadata": {},
   "source": [
    "## Генерация случайных текстов (Д/З)"
   ]
  },
  {
   "cell_type": "code",
   "execution_count": 56,
   "metadata": {
    "collapsed": false
   },
   "outputs": [],
   "source": [
    "from collections import Counter, defaultdict\n",
    "\n",
    "class LanguageModel:\n",
    "    def __init__(self, data, order=4):\n",
    "        self.order = order\n",
    "        self.ngrams = defaultdict(Counter)\n",
    "        pad = '~' * order\n",
    "        data = pad + data\n",
    "        ### YOUR CODE HERE\n",
    "        for i in range(len(data) - order):\n",
    "            history = data[i:i + order]\n",
    "            self.ngrams[history][data[i + order]] += 1\n",
    "        ### END YOUR CODE\n",
    "        self.lm = {history: self.normalize(chars) for history, chars in self.ngrams.items()}\n",
    "    \n",
    "    def normalize(self, counter):\n",
    "        ### YOUR CODE HERE\n",
    "        res = []\n",
    "        summ = sum(counter.values())\n",
    "        for i in counter.items():\n",
    "            res.append([i[0], i[1]/summ])\n",
    "        return res\n",
    "        ### END YOUR CODE\n",
    "    \n",
    "    def __getitem__(self, history):\n",
    "        return self.lm[history]"
   ]
  },
  {
   "cell_type": "markdown",
   "metadata": {},
   "source": [
    "Что-ж, пришло время обучить языковую модельку и проверить результаты."
   ]
  },
  {
   "cell_type": "code",
   "execution_count": 57,
   "metadata": {
    "collapsed": false
   },
   "outputs": [],
   "source": [
    "with open('shakespeare_input.txt', 'r') as fin:\n",
    "    lm = LanguageModel(fin.read())"
   ]
  },
  {
   "cell_type": "code",
   "execution_count": 58,
   "metadata": {
    "collapsed": false
   },
   "outputs": [
    {
     "data": {
      "text/plain": [
       "[[':', 0.005110732538330494],\n",
       " ['!', 0.0068143100511073255],\n",
       " ['u', 0.03747870528109029],\n",
       " [' ', 0.013628620102214651],\n",
       " ['r', 0.059625212947189095],\n",
       " ['n', 0.0017035775127768314],\n",
       " ['?', 0.0068143100511073255],\n",
       " [\"'\", 0.017035775127768313],\n",
       " [',', 0.027257240204429302],\n",
       " ['w', 0.817717206132879],\n",
       " ['.', 0.0068143100511073255]]"
      ]
     },
     "execution_count": 58,
     "metadata": {},
     "output_type": "execute_result"
    }
   ],
   "source": [
    "lm['ello']"
   ]
  },
  {
   "cell_type": "code",
   "execution_count": 59,
   "metadata": {
    "collapsed": false
   },
   "outputs": [
    {
     "data": {
      "text/plain": [
       "[['t', 1.0]]"
      ]
     },
     "execution_count": 59,
     "metadata": {},
     "output_type": "execute_result"
    }
   ],
   "source": [
    "lm['Firs']"
   ]
  },
  {
   "cell_type": "markdown",
   "metadata": {},
   "source": [
    "А теперь напишем функцию для генерации случайных текстов!"
   ]
  },
  {
   "cell_type": "code",
   "execution_count": 60,
   "metadata": {
    "collapsed": false
   },
   "outputs": [],
   "source": [
    "from numpy.random import choice as np\n",
    "\n",
    "def generate_letter(lm, history):\n",
    "    history = history[-lm.order:]\n",
    "    ### YOUR CODE HERE\n",
    "    mass = []\n",
    "    prob = []\n",
    "    letters = lm[history]\n",
    "    for i in letters:\n",
    "        mass.append(i[0])\n",
    "        prob.append(i[1])\n",
    "    n = np(mass, 1, p=prob)\n",
    "    return n[0]\n",
    "    ### END YOUR CODE\n",
    "        \n",
    "def generate_text(lm, n_letters=1000):\n",
    "    history = '~' * lm.order\n",
    "    out = []\n",
    "    ### YOUR CODE HERE\n",
    "    n = 0\n",
    "    while len(out) <= n_letters:\n",
    "        letter = generate_letter(lm, history)\n",
    "        history = history[1:] + letter\n",
    "        out.append(letter)\n",
    "    ### END YOUR CODE\n",
    "    return ''.join(out)"
   ]
  },
  {
   "cell_type": "code",
   "execution_count": 62,
   "metadata": {
    "collapsed": false,
    "scrolled": true
   },
   "outputs": [
    {
     "name": "stdout",
     "output_type": "stream",
     "text": [
      "First ambassault see honourable with left I was\n",
      "fall do not, now away! how did sparence. Go to.\n",
      "\n",
      "KING RICHARMIA:\n",
      "What's happy many spring none own the jet to see;\n",
      "And day,\n",
      "Althou can tenders done; following that him: our is:\n",
      "The criminister. Ah, sure that was much not were crown tell take:\n",
      "Join'd, the earth,\n",
      "I will to that seen\n",
      "How well do't, makes, and cry as on me the whine enthrought shall what break my have men of his owned Aumerald call talks a view,\n",
      "Submiss at truly, complex,\n",
      "So stol.\n",
      "\n",
      "BENEDICK:\n",
      "My bear? Is it; for ours on yours ourse.\n",
      "\n",
      "FALSTAFF:\n",
      "But, and dole her to be a many creather's bad man, God, God high degentle lord:\n",
      "If not give them in known, sir, nay, ''Od's fleer and a volublet medication, take grant then you are an hall pring, when swords! what dead.\n",
      "\n",
      "EMILIA:\n",
      "Pardon, sir, I should nothing in rogues\n",
      "Write or not, no good, my but not I am loathness.\n",
      "\n",
      "SEBASTIAN:\n",
      "I did Androus majesty God's guiled, are all she villain; the jesty me! avarrel? out at Warwicked and had the ro\n"
     ]
    }
   ],
   "source": [
    "with open('shakespeare_input.txt', 'r') as fin:\n",
    "    lm = LanguageModel(fin.read())\n",
    "    \n",
    "print(generate_text(lm, 1000))"
   ]
  },
  {
   "cell_type": "code",
   "execution_count": 63,
   "metadata": {
    "collapsed": false
   },
   "outputs": [
    {
     "name": "stdout",
     "output_type": "stream",
     "text": [
      "e\n"
     ]
    }
   ],
   "source": [
    "with open('shakespeare_input.txt', 'r') as fin:\n",
    "    lm = LanguageModel(fin.read())\n",
    "    \n",
    "print (generate_letter(lm, 'Citiz'))"
   ]
  },
  {
   "cell_type": "code",
   "execution_count": 51,
   "metadata": {
    "collapsed": false,
    "scrolled": true
   },
   "outputs": [
    {
     "name": "stdout",
     "output_type": "stream",
     "text": [
      "First Citizen:\n",
      "Your letters, and that, my lord, will I bring you wouldst not like the bad air.\n",
      "\n",
      "CAMILLO:\n",
      "I may not sullen, froward.\n",
      "\n",
      "POMPEY:\n",
      "I spy comfort.\n",
      "\n",
      "SICINIUS:\n",
      "Stand, ho! What, does not becomes more than I did first begin to melt\n",
      "And drown the gown, sew me in\n",
      "the wonder'd away my other plays the man?\n",
      "I have no true love; and see't;\n",
      "And I resign and base and humility unto his several friends and crown;\n",
      "The which bow them in; so shall not be so particular\n",
      "knowledge of that looks of an old coat.\n",
      "\n",
      "SIR HUGH EVANS:\n",
      "'Pless you can carry me in their eyes\n",
      "And earth,\n",
      "Or felt the clock\n",
      "strikes one.\n",
      "\n",
      "DESDEMONA:\n",
      "How now, Sir Richard and knaves! they\n",
      "have thee,\n",
      "By ruffian, let us deal justly.\n",
      "\n",
      "DUKE VINCENTIO:\n",
      "I pray thee, stand up.\n",
      "\n",
      "Third Gentleman, Edmund Mortimer his\n",
      "wife. 'Rivo!' says the order,\n",
      "Held a late comes to your daughter;\n",
      "Or rather hath conference,\n",
      "Her uncle Pandarus!\n",
      "\n",
      "PANDARUS:\n",
      "\n",
      "TROILUS:\n",
      "Cressida, how often heard such a precious eye\n",
      "Than that: though she had wounds upon him as he left a female fairies.\n",
      "\n",
      "SIR TOBY BELCH:\n",
      "I will.\n",
      "I fear 'tis better husband we shall thereby to find three quarter of a king and a fair day in the opportune may grow wiser every gash was an enterprise: but, in this loss of mine.\n",
      "\n",
      "KING LEAR:\n",
      "O, vassal! the gods of Rome!\n",
      "What's the devil could I cannot choose that my proper title to them,\n",
      "He fumblest, Eros; and my horse's health, and commit\n",
      "Murder indeed it goes so. Our last king's departure then no more.\n",
      "Shall I speak not to know their sex?\n",
      "\n",
      "CLAUDIO:\n",
      "For those that was he\n",
      "That face, the Propontic and safety lies.\n",
      "\n",
      "SURREY:\n",
      "Item, you gods! what's the\n",
      "news in stones of the mercy out o' door. and go home in his arm\n",
      "The lion dying tongue at will.\n",
      "\n",
      "KATHARINA:\n",
      "I like the morning secretly to go;\n",
      "My ear shouldst as well worth and quarrel of a hundred ghastly looking on the belfry.\n",
      "\n",
      "Second Gentleman:\n",
      "None but he, to make minstrelsy.\n",
      "\n",
      "BIRON:\n",
      "How do you, Master Brook, as you will not strain'd purely from thee departure,\n",
      "Find shape thou tell'st thou \n"
     ]
    }
   ],
   "source": [
    "with open('shakespeare_input.txt', 'r') as fin:\n",
    "    lm = LanguageModel(fin.read(), 8)\n",
    "    \n",
    "print(generate_text(lm, 2000))"
   ]
  },
  {
   "cell_type": "code",
   "execution_count": 99,
   "metadata": {
    "collapsed": false,
    "scrolled": true
   },
   "outputs": [],
   "source": [
    "#with open('shakespeare_input.txt', 'r') as fin:\n",
    "#    lm = LanguageModel(fin.read(), 16)\n",
    "    \n",
    "#print(generate_text(lm, 2000))"
   ]
  },
  {
   "cell_type": "code",
   "execution_count": null,
   "metadata": {
    "collapsed": true
   },
   "outputs": [],
   "source": []
  }
 ],
 "metadata": {
  "kernelspec": {
   "display_name": "Python 3",
   "language": "python",
   "name": "python3"
  },
  "language_info": {
   "codemirror_mode": {
    "name": "ipython",
    "version": 3
   },
   "file_extension": ".py",
   "mimetype": "text/x-python",
   "name": "python",
   "nbconvert_exporter": "python",
   "pygments_lexer": "ipython3",
   "version": "3.5.1"
  }
 },
 "nbformat": 4,
 "nbformat_minor": 0
}
